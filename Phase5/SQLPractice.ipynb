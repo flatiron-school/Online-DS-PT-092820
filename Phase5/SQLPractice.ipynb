{
 "cells": [
  {
   "cell_type": "markdown",
   "metadata": {},
   "source": [
    "# SQL Practice Questions"
   ]
  },
  {
   "cell_type": "markdown",
   "metadata": {},
   "source": [
    "## LOTR: Elven Wildcards\n",
    "\n",
    "[Source: CodeWars](https://www.codewars.com/kata/5ad90fb688a0b74111000055/train/sql)\n",
    "\n",
    "Deep within the fair realm of Lothlórien, you have been asked to create a shortlist of candidates for a recently vacated position on the council.\n",
    "\n",
    "Of so many worthy elves, who to choose for such a lofty position? After much thought you decide to select candidates by name, which are often closely aligned to an elf's skill and temperament.\n",
    "\n",
    "Choose those with \"tegil\" appearing anywhere in their first name, as they are likely to be good calligraphers, OR those with \"astar\" anywhere in their last name, who will be faithful to the role.\n",
    "\n",
    "Table Overview: `elves`\n",
    "\n",
    "- firstname\n",
    "- lastname\n",
    "\n",
    "Note: all names are in lowercase.\n",
    "\n",
    "To aid the scribes, return the `firstname` and `lastname` column concatenated, separated by a space, into a single `shortlist` column, and capitalise the first letter of each name."
   ]
  },
  {
   "cell_type": "markdown",
   "metadata": {},
   "source": [
    "<img src=\"images/LOTR-elf-names.png\" alt=\"elves table screenshot, from codewars\" width=500>"
   ]
  },
  {
   "cell_type": "code",
   "execution_count": null,
   "metadata": {},
   "outputs": [],
   "source": [
    "'''\n",
    "--but on the land of Lórien no shadow lay--\n",
    "\n",
    "\n",
    "'''"
   ]
  },
  {
   "cell_type": "markdown",
   "metadata": {},
   "source": [
    "-----\n",
    "\n",
    "## Harry Potter: Sorting Hat\n",
    "\n",
    "[Source: CodeWars](https://www.codewars.com/kata/5abcf0f930488ff1a6000b66/train/sql)\n",
    "\n",
    "There is truly no magic in the world; the Hogwarts Sorting Hat is SQL-based, its decision-making powers are common operators and prospective students are merely data - names, and two columns of qualities.\n",
    "\n",
    "Table Overview: `students`\n",
    "\n",
    "- id\n",
    "- name\n",
    "- quality1\n",
    "- quality2\n",
    "\n",
    "Conditions: \n",
    "\n",
    "- Slytherin are being quite strict this year and will only take students who are 'evil' AND 'cunning'\n",
    "\n",
    "- Gryffindor will take students who are 'brave' but only if their second quality is NOT 'evil'\n",
    "\n",
    "- Ravenclaw accepts students who are 'studious' OR 'intelligent'\n",
    "\n",
    "- Hufflepuff will simply take those who have the quality 'hufflepuff'\n",
    "\n",
    "(don't worry, for simplicity's sake 'brave' and 'studious' will only appear in `quality1`, and 'cunning' and 'intelligent' will only appear in `quality2`.)\n",
    "\n",
    "Return the `id`, `name`, `quality1` and `quality2` of all the students who'll be accepted, ordered by ascending `id`."
   ]
  },
  {
   "cell_type": "markdown",
   "metadata": {},
   "source": [
    "<img src=\"images/HP-sorting-hat.png\" alt=\"sorting hat table screenshot, from codewars\" width=500>"
   ]
  },
  {
   "cell_type": "code",
   "execution_count": null,
   "metadata": {},
   "outputs": [],
   "source": [
    "'''\n",
    "/* Oh you may not think I'm pretty,\n",
    "But don't judge on what you see,\n",
    "I'll eat myself if you can find\n",
    "A smarter hat than me. */\n",
    "\n",
    "\n",
    "'''"
   ]
  },
  {
   "cell_type": "markdown",
   "metadata": {},
   "source": [
    "-----\n",
    "\n",
    "## LEVEL UP!\n",
    "\n",
    "## Actors Cast Together\n",
    "\n",
    "[Source: CodeWars](https://www.codewars.com/kata/5818bde9559ff58bd90004a2)\n",
    "\n",
    "Given the the schema presented below find two actors who are cast together the most, and list titles of only those movies they were cast in together. Order the result set alphabetically by the movie title.\n",
    "\n",
    "Table Overview: `film_actor`\n",
    "- actor_id\n",
    "- film_id\n",
    "\n",
    "Table Overview: `actor`\n",
    "- actor_id\n",
    "- first_name\n",
    "- last_name\n",
    "\n",
    "Table Overview: `film`\n",
    "- film_id\n",
    "- title\n",
    "\n",
    "\n",
    "The desired output:\n",
    "\n",
    "first_actor | second_actor | title\n",
    "------------|--------------|--------------------\n",
    "John Doe    | Jane Doe     | The Best Movie Ever\n",
    "\n",
    "- `first_actor` - Full name (First name + Last name separated by a space)\n",
    "- `second_actor` - Full name (First name + Last name separated by a space)\n",
    "- `title` - Movie title\n",
    "\n",
    "Note: `actor_id` of the first_actor should be lower than `actor_id` of the second_actor"
   ]
  },
  {
   "cell_type": "markdown",
   "metadata": {},
   "source": [
    "`film_actor` Table:\n",
    "<img src=\"images/Movies-film-actor.png\" alt=\"film/actor table screenshot, from codewars\" width=500>\n",
    "\n",
    "`actor` Table:\n",
    "<img src=\"images/Movies-actor.png\" alt=\"actor table screenshot, from codewars\" width=500>\n",
    "\n",
    "`film` Table:\n",
    "<img src=\"images/Movies-film.png\" alt=\"film table screenshot, from codewars\" width=500>\n"
   ]
  },
  {
   "cell_type": "code",
   "execution_count": null,
   "metadata": {},
   "outputs": [],
   "source": [
    "'''\n",
    "\n",
    "\n",
    "'''"
   ]
  }
 ],
 "metadata": {
  "kernelspec": {
   "display_name": "Python 3",
   "language": "python",
   "name": "python3"
  },
  "language_info": {
   "codemirror_mode": {
    "name": "ipython",
    "version": 3
   },
   "file_extension": ".py",
   "mimetype": "text/x-python",
   "name": "python",
   "nbconvert_exporter": "python",
   "pygments_lexer": "ipython3",
   "version": "3.8.5"
  }
 },
 "nbformat": 4,
 "nbformat_minor": 4
}
